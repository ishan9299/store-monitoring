{
 "cells": [
  {
   "cell_type": "code",
   "execution_count": 1,
   "id": "4b22f6ab-5ed8-4f32-ab18-f3ab324ce9d0",
   "metadata": {
    "tags": []
   },
   "outputs": [],
   "source": [
    "import pandas as pd\n",
    "import numpy as np"
   ]
  },
  {
   "cell_type": "code",
   "execution_count": 2,
   "id": "d64668ba-34a1-4f63-a37b-d7a1602aa988",
   "metadata": {
    "tags": []
   },
   "outputs": [
    {
     "name": "stdout",
     "output_type": "stream",
     "text": [
      "<class 'pandas.core.frame.DataFrame'>\n",
      "RangeIndex: 1822080 entries, 0 to 1822079\n",
      "Data columns (total 3 columns):\n",
      " #   Column         Dtype \n",
      "---  ------         ----- \n",
      " 0   store_id       int64 \n",
      " 1   status         object\n",
      " 2   timestamp_utc  object\n",
      "dtypes: int64(1), object(2)\n",
      "memory usage: 41.7+ MB\n",
      "<class 'pandas.core.frame.DataFrame'>\n",
      "RangeIndex: 86198 entries, 0 to 86197\n",
      "Data columns (total 4 columns):\n",
      " #   Column            Non-Null Count  Dtype \n",
      "---  ------            --------------  ----- \n",
      " 0   store_id          86198 non-null  int64 \n",
      " 1   day               86198 non-null  int64 \n",
      " 2   start_time_local  86198 non-null  object\n",
      " 3   end_time_local    86198 non-null  object\n",
      "dtypes: int64(2), object(2)\n",
      "memory usage: 2.6+ MB\n",
      "<class 'pandas.core.frame.DataFrame'>\n",
      "RangeIndex: 13559 entries, 0 to 13558\n",
      "Data columns (total 2 columns):\n",
      " #   Column        Non-Null Count  Dtype \n",
      "---  ------        --------------  ----- \n",
      " 0   store_id      13559 non-null  int64 \n",
      " 1   timezone_str  13559 non-null  object\n",
      "dtypes: int64(1), object(1)\n",
      "memory usage: 212.0+ KB\n"
     ]
    }
   ],
   "source": [
    "store_status = pd.read_csv(\"../csv/store status.csv\")\n",
    "store_business_status = pd.read_csv(\"../csv/Menu hours.csv\")\n",
    "store_timezone = pd.read_csv(\"../csv/bq-results-20230125-202210-1674678181880.csv\")\n",
    "\n",
    "store_status.info()\n",
    "store_business_status.info()\n",
    "store_timezone.info()"
   ]
  },
  {
   "cell_type": "code",
   "execution_count": 3,
   "id": "185311ab-c116-4589-9be1-352669ceeb56",
   "metadata": {
    "tags": []
   },
   "outputs": [
    {
     "name": "stdout",
     "output_type": "stream",
     "text": [
      "14092\n",
      "11116\n",
      "13559\n"
     ]
    }
   ],
   "source": [
    "store_id_1 = store_status.store_id.unique()\n",
    "store_id_2 = store_business_status.store_id.unique()\n",
    "store_id_3 = store_timezone.store_id.unique()\n",
    "\n",
    "print(store_id_1.size)\n",
    "print(store_id_2.size)\n",
    "print(store_id_3.size)"
   ]
  },
  {
   "cell_type": "code",
   "execution_count": 4,
   "id": "f077146f-c4c8-40d2-aebb-3d822a825bbb",
   "metadata": {
    "tags": []
   },
   "outputs": [
    {
     "data": {
      "text/plain": [
       "14226"
      ]
     },
     "execution_count": 4,
     "metadata": {},
     "output_type": "execute_result"
    }
   ],
   "source": [
    "union_12 = np.union1d(store_id_1, store_id_2)\n",
    "union_23 = np.union1d(store_id_2, store_id_3)\n",
    "actual_store_ids = np.union1d(union_12, union_23)\n",
    "\n",
    "actual_store_ids.size"
   ]
  },
  {
   "cell_type": "code",
   "execution_count": 5,
   "id": "806d71c4-84c0-408e-8137-11e918573d18",
   "metadata": {
    "tags": []
   },
   "outputs": [
    {
     "name": "stdout",
     "output_type": "stream",
     "text": [
      "134\n",
      "3110\n",
      "667\n"
     ]
    }
   ],
   "source": [
    "# locate missing store ids in the database.\n",
    "# missing_id_1 = actual_store_ids[~np.isin(actual_store_ids, store_id_1)].tolist()\n",
    "missing_id_2 = actual_store_ids[~np.isin(actual_store_ids, store_id_2)].tolist()\n",
    "missing_id_3 = actual_store_ids[~np.isin(actual_store_ids, store_id_3)].tolist()\n",
    "\n",
    "# print(len(missing_id_1))\n",
    "print(len(missing_id_2))\n",
    "print(len(missing_id_3))"
   ]
  },
  {
   "cell_type": "code",
   "execution_count": 10,
   "id": "761299c2-79d3-4c03-b535-93eaef25faec",
   "metadata": {
    "tags": []
   },
   "outputs": [],
   "source": [
    "# generate dataframes\n",
    "temp_df = None\n",
    "store_timezone_append = None\n",
    "store_business_status_append = None\n",
    "\n",
    "for id in missing_id_3:\n",
    "    temp_df = pd.DataFrame([[id, \"America/Chicago\"]], columns=[\"store_id\", \"timezone_str\"])\n",
    "    store_timezone_append = pd.concat([store_timezone_append, temp_df], ignore_index=True)\n",
    "    \n",
    "for id in missing_id_2:\n",
    "    temp_df = pd.DataFrame([\n",
    "        [id, 0, \"00:00:00\", \"23:59:59\"],\n",
    "        [id, 1, \"00:00:00\", \"23:59:59\"],\n",
    "        [id, 2, \"00:00:00\", \"23:59:59\"],\n",
    "        [id, 3, \"00:00:00\", \"23:59:59\"],\n",
    "        [id, 4, \"00:00:00\", \"23:59:59\"],\n",
    "        [id, 5, \"00:00:00\", \"23:59:59\"],\n",
    "        [id, 6, \"00:00:00\", \"23:59:59\"]\n",
    "    ], columns=[\"store_id\", \"day\", \"start_time_local\", \"end_time_local\"])\n",
    "    store_business_status_append = pd.concat([store_business_status_append, temp_df], ignore_index=True)\n",
    "\n",
    "store_timezone_append.to_csv(\"../csv/bq-results-20230125-202210-1674678181880.csv\", mode=\"a\", index=False, header=False)\n",
    "store_business_status_append.to_csv(\"../csv/Menu hours.csv\", mode=\"a\", index=False, header=False)"
   ]
  },
  {
   "cell_type": "code",
   "execution_count": null,
   "id": "312bffc8-990e-4e0c-9aa9-4231da1a4625",
   "metadata": {},
   "outputs": [],
   "source": []
  }
 ],
 "metadata": {
  "kernelspec": {
   "display_name": "Python 3 (ipykernel)",
   "language": "python",
   "name": "python3"
  },
  "language_info": {
   "codemirror_mode": {
    "name": "ipython",
    "version": 3
   },
   "file_extension": ".py",
   "mimetype": "text/x-python",
   "name": "python",
   "nbconvert_exporter": "python",
   "pygments_lexer": "ipython3",
   "version": "3.11.3"
  }
 },
 "nbformat": 4,
 "nbformat_minor": 5
}
